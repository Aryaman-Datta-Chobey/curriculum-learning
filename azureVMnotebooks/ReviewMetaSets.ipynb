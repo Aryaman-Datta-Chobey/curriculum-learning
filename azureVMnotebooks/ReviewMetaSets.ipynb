{
 "cells": [
  {
   "cell_type": "markdown",
   "id": "fef2ab28-cb93-4e1b-b5cd-b3cd5ac193ae",
   "metadata": {},
   "source": [
    "# Context Manager Class"
   ]
  },
  {
   "cell_type": "code",
   "execution_count": 1,
   "id": "0f332ff3-6d38-431d-b9af-5a56408b5191",
   "metadata": {},
   "outputs": [],
   "source": [
    "import sys\n",
    "\n",
    "class redirect_output(object):\n",
    "    \"\"\"context manager for redirecting stdout/err to files\"\"\"\n",
    "\n",
    "    def __init__(self, stdout='', stderr=''):\n",
    "        self.stdout = stdout\n",
    "        self.stderr = stderr\n",
    "\n",
    "    def __enter__(self):\n",
    "        self.sys_stdout = sys.stdout\n",
    "        self.sys_stderr = sys.stderr\n",
    "\n",
    "        if self.stdout:\n",
    "            sys.stdout = open(self.stdout, 'w')\n",
    "        if self.stderr:\n",
    "            if self.stderr == self.stdout:\n",
    "                sys.stderr = sys.stdout\n",
    "            else:\n",
    "                sys.stderr = open(self.stderr, 'w')\n",
    "\n",
    "    def __exit__(self, exc_type, exc_value, traceback):\n",
    "        sys.stdout = self.sys_stdout\n",
    "        sys.stderr = self.sys_stderr\n",
    "\n",
    "        if self.stdout and sys.stdout != self.sys_stdout:\n",
    "            sys.stdout.close()\n",
    "        if self.stderr and sys.stderr != self.sys_stderr:\n",
    "            sys.stderr.close()\n"
   ]
  },
  {
   "cell_type": "markdown",
   "id": "a66ab58f-a1cd-42ab-aa35-b992b9e4d91d",
   "metadata": {},
   "source": [
    "# Generating line by line surpirsals"
   ]
  },
  {
   "cell_type": "markdown",
   "id": "d78ccf5b-1774-4141-8942-698251206173",
   "metadata": {},
   "source": [
    "## Reviewer 0"
   ]
  },
  {
   "cell_type": "code",
   "execution_count": null,
   "id": "99a87c28-c945-4583-a512-0ac8c04c72ef",
   "metadata": {},
   "outputs": [
    {
     "name": "stderr",
     "output_type": "stream",
     "text": [
      "Libraries loaded\n",
      "Using beamsize: 50273\n"
     ]
    }
   ],
   "source": [
    "with redirect_output(\"/home/sharedDATA/models/R0byR1.txt\"):\n",
    "    %run main.py --model_file '/home/achobey/v2 models and logs/babyLM10Mreviewer1V2.pt' --vocab_file './lstm_reviewers/BPEVocab.txt' --cuda --data_dir './lstm_reviewers' --testfname 'rev0_tokenized.txt' --test --words --nopp"
   ]
  },
  {
   "cell_type": "code",
   "execution_count": null,
   "id": "83a964b8-02d8-454e-9e9d-787debbf7ce6",
   "metadata": {},
   "outputs": [],
   "source": [
    "with redirect_output(\"/home/sharedDATA/models/R0byR2.txt\"):\n",
    "    %run main.py --model_file '/home/achobey/v2 models and logs/babyLM10Mreviewer2V2.pt' --vocab_file './lstm_reviewers/BPEVocab.txt' --cuda --data_dir './lstm_reviewers' --testfname 'rev0_tokenized.txt' --test --words --nopp"
   ]
  },
  {
   "cell_type": "code",
   "execution_count": null,
   "id": "275bc1e1-009c-4c6b-9c7f-3103373ce5ce",
   "metadata": {},
   "outputs": [],
   "source": [
    "with redirect_output(\"/home/sharedDATA/models/R0byR3.txt\"):\n",
    "    %run main.py --model_file '/home/achobey/v2 models and logs/babyLM10Mreviewer3V2.pt' --vocab_file './lstm_reviewers/BPEVocab.txt' --cuda --data_dir './lstm_reviewers' --testfname 'rev0_tokenized.txt' --test --words --nopp"
   ]
  },
  {
   "cell_type": "code",
   "execution_count": null,
   "id": "8c32492b-e035-4c55-b112-e1b1f3fed67c",
   "metadata": {},
   "outputs": [],
   "source": [
    "with redirect_output(\"/home/sharedDATA/models/R0byR4.txt\"):\n",
    "    %run main.py --model_file '/home/achobey/v2 models and logs/babyLM10Mreviewer4V2.pt' --vocab_file './lstm_reviewers/BPEVocab.txt' --cuda --data_dir './lstm_reviewers' --testfname 'rev0_tokenized.txt' --test --words --nopp"
   ]
  },
  {
   "cell_type": "markdown",
   "id": "9ad29de0-8e73-4dc4-a94f-367fc0120654",
   "metadata": {},
   "source": [
    "## Reviewer 1"
   ]
  },
  {
   "cell_type": "code",
   "execution_count": null,
   "id": "d587fc46-4a9b-4b70-a8c4-058cfa37da69",
   "metadata": {},
   "outputs": [
    {
     "name": "stderr",
     "output_type": "stream",
     "text": [
      "Libraries loaded\n",
      "Using beamsize: 50273\n"
     ]
    }
   ],
   "source": [
    "with redirect_output(\"/home/sharedDATA/models/R1byR0.txt\"):\n",
    "    %run main.py --model_file '/home/achobey/v2 models and logs/babyLM10Mreviewer0V2.pt' --vocab_file './lstm_reviewers/BPEVocab.txt' --cuda --data_dir './lstm_reviewers' --testfname 'rev1_tokenized.txt' --test --words --nopp"
   ]
  },
  {
   "cell_type": "code",
   "execution_count": null,
   "id": "c65b4d61-c811-47b5-8f6b-b2490b7d8533",
   "metadata": {},
   "outputs": [],
   "source": [
    "with redirect_output(\"/home/sharedDATA/models/R1byR2.txt\"):\n",
    "    %run main.py --model_file '/home/achobey/v2 models and logs/babyLM10Mreviewer2V2.pt' --vocab_file './lstm_reviewers/BPEVocab.txt' --cuda --data_dir './lstm_reviewers' --testfname 'rev1_tokenized.txt' --test --words --nopp"
   ]
  },
  {
   "cell_type": "code",
   "execution_count": null,
   "id": "c40c5ad8-6313-4a15-8309-249b0971be8d",
   "metadata": {},
   "outputs": [],
   "source": [
    "with redirect_output(\"/home/sharedDATA/models/R1byR3.txt\"):\n",
    "    %run main.py --model_file '/home/achobey/v2 models and logs/babyLM10Mreviewer3V2.pt' --vocab_file './lstm_reviewers/BPEVocab.txt' --cuda --data_dir './lstm_reviewers' --testfname 'rev1_tokenized.txt' --test --words --nopp"
   ]
  },
  {
   "cell_type": "code",
   "execution_count": null,
   "id": "91ba10dc-874c-444d-b5eb-e8b3ecf094ee",
   "metadata": {},
   "outputs": [],
   "source": [
    "with redirect_output(\"/home/sharedDATA/models/R1byR4.txt\"):\n",
    "    %run main.py --model_file '/home/achobey/v2 models and logs/babyLM10Mreviewer4V2.pt' --vocab_file './lstm_reviewers/BPEVocab.txt' --cuda --data_dir './lstm_reviewers' --testfname 'rev1_tokenized.txt' --test --words --nopp"
   ]
  },
  {
   "cell_type": "markdown",
   "id": "5a7733fc-a11a-41b3-8688-467b979ea935",
   "metadata": {},
   "source": [
    "## Reviewer 2"
   ]
  },
  {
   "cell_type": "code",
   "execution_count": null,
   "id": "808c1951-412d-408c-8d55-30c06a6d84fc",
   "metadata": {},
   "outputs": [
    {
     "name": "stderr",
     "output_type": "stream",
     "text": [
      "Libraries loaded\n",
      "Using beamsize: 50273\n"
     ]
    }
   ],
   "source": [
    "with redirect_output(\"/home/sharedDATA/models/R2byR0.txt\"):\n",
    "    %run main.py --model_file '/home/achobey/v2 models and logs/babyLM10Mreviewer0V2.pt' --vocab_file './lstm_reviewers/BPEVocab.txt' --cuda --data_dir './lstm_reviewers' --testfname 'rev2_tokenized.txt' --test --words --nopp"
   ]
  },
  {
   "cell_type": "code",
   "execution_count": null,
   "id": "1bd19e1a-78d9-4e46-835e-da72912a137b",
   "metadata": {},
   "outputs": [
    {
     "name": "stderr",
     "output_type": "stream",
     "text": [
      "Libraries loaded\n",
      "Using beamsize: 50273\n"
     ]
    }
   ],
   "source": [
    "with redirect_output(\"/home/sharedDATA/models/R2byR1.txt\"):\n",
    "    %run main.py --model_file '/home/achobey/v2 models and logs/babyLM10Mreviewer1V2.pt' --vocab_file './lstm_reviewers/BPEVocab.txt' --cuda --data_dir './lstm_reviewers' --testfname 'rev2_tokenized.txt' --test --words --nopp"
   ]
  },
  {
   "cell_type": "code",
   "execution_count": null,
   "id": "77a9ff97-f4cd-4b85-b303-8b90c909b9dd",
   "metadata": {},
   "outputs": [
    {
     "name": "stderr",
     "output_type": "stream",
     "text": [
      "Libraries loaded\n",
      "Using beamsize: 50273\n"
     ]
    }
   ],
   "source": [
    "with redirect_output(\"/home/sharedDATA/models/R2byR3.txt\"):\n",
    "    %run main.py --model_file '/home/achobey/v2 models and logs/babyLM10Mreviewer3V2.pt' --vocab_file './lstm_reviewers/BPEVocab.txt' --cuda --data_dir './lstm_reviewers' --testfname 'rev2_tokenized.txt' --test --words --nopp"
   ]
  },
  {
   "cell_type": "code",
   "execution_count": null,
   "id": "97b06127-1437-4a79-835b-8cc4510f383e",
   "metadata": {},
   "outputs": [
    {
     "name": "stderr",
     "output_type": "stream",
     "text": [
      "Libraries loaded\n",
      "Using beamsize: 50273\n"
     ]
    }
   ],
   "source": [
    "with redirect_output(\"/home/sharedDATA/models/R2byR4.txt\"):\n",
    "    %run main.py --model_file '/home/achobey/v2 models and logs/babyLM10Mreviewer4V2.pt' --vocab_file './lstm_reviewers/BPEVocab.txt' --cuda --data_dir './lstm_reviewers' --testfname 'rev2_tokenized.txt' --test --words --nopp"
   ]
  },
  {
   "cell_type": "markdown",
   "id": "db2e3202-67ff-4704-b0e2-888e5d1c2919",
   "metadata": {},
   "source": [
    "## Reviewer 3"
   ]
  },
  {
   "cell_type": "code",
   "execution_count": null,
   "id": "c30065c5-facb-47ff-868e-9a8dbb8541e3",
   "metadata": {},
   "outputs": [
    {
     "name": "stderr",
     "output_type": "stream",
     "text": [
      "Libraries loaded\n",
      "Using beamsize: 50273\n"
     ]
    }
   ],
   "source": [
    "with redirect_output(\"/home/sharedDATA/models/R3byR0.txt\"):\n",
    "    %run main.py --model_file '/home/achobey/v2 models and logs/babyLM10Mreviewer0V2.pt' --vocab_file './lstm_reviewers/BPEVocab.txt' --cuda --data_dir './lstm_reviewers' --testfname 'rev3_tokenized.txt' --test --words --nopp"
   ]
  },
  {
   "cell_type": "code",
   "execution_count": null,
   "id": "325ffdde-0c71-40a3-b10e-9ab9cfec4cfb",
   "metadata": {},
   "outputs": [
    {
     "name": "stderr",
     "output_type": "stream",
     "text": [
      "Libraries loaded\n",
      "Using beamsize: 50273\n"
     ]
    }
   ],
   "source": [
    "with redirect_output(\"/home/sharedDATA/models/R3byR1.txt\"):\n",
    "    %run main.py --model_file '/home/achobey/v2 models and logs/babyLM10Mreviewer1V2.pt' --vocab_file './lstm_reviewers/BPEVocab.txt' --cuda --data_dir './lstm_reviewers' --testfname 'rev3_tokenized.txt' --test --words --nopp"
   ]
  },
  {
   "cell_type": "code",
   "execution_count": null,
   "id": "d9c8beac-11f6-47f9-aab9-e8ce974837cc",
   "metadata": {},
   "outputs": [
    {
     "name": "stderr",
     "output_type": "stream",
     "text": [
      "Libraries loaded\n",
      "Using beamsize: 50273\n"
     ]
    }
   ],
   "source": [
    "with redirect_output(\"/home/sharedDATA/models/R3byR2.txt\"):\n",
    "    %run main.py --model_file '/home/achobey/v2 models and logs/babyLM10Mreviewer2V2.pt' --vocab_file './lstm_reviewers/BPEVocab.txt' --cuda --data_dir './lstm_reviewers' --testfname 'rev3_tokenized.txt' --test --words --nopp"
   ]
  },
  {
   "cell_type": "code",
   "execution_count": null,
   "id": "976d144d-3138-41ed-996d-69e57eade952",
   "metadata": {},
   "outputs": [
    {
     "name": "stderr",
     "output_type": "stream",
     "text": [
      "Libraries loaded\n",
      "Using beamsize: 50273\n"
     ]
    }
   ],
   "source": [
    "with redirect_output(\"/home/sharedDATA/models/R3byR4.txt\"):\n",
    "    %run main.py --model_file '/home/achobey/v2 models and logs/babyLM10Mreviewer4V2.pt' --vocab_file './lstm_reviewers/BPEVocab.txt' --cuda --data_dir './lstm_reviewers' --testfname 'rev3_tokenized.txt' --test --words --nopp"
   ]
  },
  {
   "cell_type": "markdown",
   "id": "e5f4d9d7-1769-446a-85bd-90dcadf6b351",
   "metadata": {},
   "source": [
    "## Reviewer 4"
   ]
  },
  {
   "cell_type": "code",
   "execution_count": null,
   "id": "32c83f5a-4cf7-48a1-9f23-0ba5c76bf9bd",
   "metadata": {},
   "outputs": [],
   "source": [
    "with redirect_output(\"/home/sharedDATA/models/R4byR0.txt\"):\n",
    "    %run main.py --model_file '/home/achobey/v2 models and logs/babyLM10Mreviewer0V2.pt' --vocab_file './lstm_reviewers/BPEVocab.txt' --cuda --data_dir './lstm_reviewers' --testfname 'rev4_tokenized.txt' --test --words --nopp"
   ]
  },
  {
   "cell_type": "code",
   "execution_count": null,
   "id": "e5a7beb4-6196-4bf5-a4d6-945e15c46459",
   "metadata": {},
   "outputs": [],
   "source": [
    "with redirect_output(\"/home/sharedDATA/models/R4byR1.txt\"):\n",
    "    %run main.py --model_file '/home/achobey/v2 models and logs/babyLM10Mreviewer1V2.pt' --vocab_file './lstm_reviewers/BPEVocab.txt' --cuda --data_dir './lstm_reviewers' --testfname 'rev4_tokenized.txt' --test --words --nopp"
   ]
  },
  {
   "cell_type": "code",
   "execution_count": null,
   "id": "20a87e46-084d-4f7b-8ba3-af7c40e252e2",
   "metadata": {},
   "outputs": [],
   "source": [
    "with redirect_output(\"/home/sharedDATA/models/R4byR2.txt\"):\n",
    "    %run main.py --model_file '/home/achobey/v2 models and logs/babyLM10Mreviewer2V2.pt' --vocab_file './lstm_reviewers/BPEVocab.txt' --cuda --data_dir './lstm_reviewers' --testfname 'rev4_tokenized.txt' --test --words --nopp"
   ]
  },
  {
   "cell_type": "code",
   "execution_count": null,
   "id": "d73b66ec-7bf5-4e97-9008-950c979e8be0",
   "metadata": {},
   "outputs": [],
   "source": [
    "with redirect_output(\"/home/sharedDATA/models/R4byR3.txt\"):\n",
    "    %run main.py --model_file '/home/achobey/v2 models and logs/babyLM10Mreviewer3V2.pt' --vocab_file './lstm_reviewers/BPEVocab.txt' --cuda --data_dir './lstm_reviewers' --testfname 'rev4_tokenized.txt' --test --words --nopp"
   ]
  },
  {
   "cell_type": "markdown",
   "id": "52cfa0d2-0822-42e7-976e-dae9cbdf202a",
   "metadata": {},
   "source": [
    "## Sync and Deallocate VM"
   ]
  },
  {
   "cell_type": "code",
   "execution_count": null,
   "id": "0667b1e2-d48f-45c5-9fe2-0a56d6193217",
   "metadata": {},
   "outputs": [],
   "source": [
    "!cp  /home/sharedDATA/models/* v2\\ models\\ and\\ logs/"
   ]
  },
  {
   "cell_type": "code",
   "execution_count": null,
   "id": "cc673230-8758-46a6-a431-3623b77db2f9",
   "metadata": {},
   "outputs": [],
   "source": [
    "!bash /opt/finishedtraining.sh"
   ]
  },
  {
   "cell_type": "code",
   "execution_count": null,
   "id": "19f2b0fd-3c44-42fb-ad7a-7e2789eb3dde",
   "metadata": {},
   "outputs": [],
   "source": [
    "!bash /opt/syncdata.sh"
   ]
  }
 ],
 "metadata": {
  "kernelspec": {
   "display_name": "Python 3 (ipykernel)",
   "language": "python",
   "name": "python3"
  },
  "language_info": {
   "codemirror_mode": {
    "name": "ipython",
    "version": 3
   },
   "file_extension": ".py",
   "mimetype": "text/x-python",
   "name": "python",
   "nbconvert_exporter": "python",
   "pygments_lexer": "ipython3",
   "version": "3.11.4"
  }
 },
 "nbformat": 4,
 "nbformat_minor": 5
}
